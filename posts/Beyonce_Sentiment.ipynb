{
 "cells": [
  {
   "cell_type": "markdown",
   "id": "359fc3b6",
   "metadata": {},
   "source": [
    "# Evolution of Beyonce's Album"
   ]
  },
  {
   "cell_type": "markdown",
   "id": "0fbb16ea",
   "metadata": {},
   "source": [
    "For my final project, I will be exploring the evolution of Beyonce's albums by analyzing the trend of sentiment scores. The data used in this project includes the names of albums, titles of song, song lyrics and release year of album (link: https://www.kaggle.com/datasets/hillaryosei/beyonce-lyrics?resource=download). \n",
    "<br>Another dataset, which I will be making myself, simply shows the number of copies sold for each album (raw data: https://www.forbes.com/sites/marisadellatto/2022/08/08/beyoncs-renaissance-is-a-no-1-album-but-its-not-her-biggest-debut-ever/?sh=599029c227d5)"
   ]
  },
  {
   "cell_type": "markdown",
   "id": "43836802",
   "metadata": {},
   "source": [
    "My motivation for selecting this dataset is two-fold: a) Beyonce is one of the most legendary artists of the century with her career spanning over 20 years. Therefore, I believe that she would be an interesting topic of a project. b) Throughout the DH 140 course, I particularly enjoyed text analysis and data visualization. Thus, I want to use these two techniques primarily. With these reasons in mind, my research question is **this:**"
   ]
  },
  {
   "cell_type": "markdown",
   "id": "4cb588cb",
   "metadata": {},
   "source": [
    "***How have the moods of Beyonce's albums transformed over the span of her career and what is the correlation between moods and sales of her album?***\n"
   ]
  },
  {
   "cell_type": "markdown",
   "id": "723a27bd",
   "metadata": {},
   "source": [
    "### I. Exploring Data \n",
    "<br> Let's first explore the Beyonce dataset that I found from online. "
   ]
  },
  {
   "cell_type": "code",
   "execution_count": 128,
   "id": "1257fd79",
   "metadata": {},
   "outputs": [
    {
     "data": {
      "text/html": [
       "<div>\n",
       "<style scoped>\n",
       "    .dataframe tbody tr th:only-of-type {\n",
       "        vertical-align: middle;\n",
       "    }\n",
       "\n",
       "    .dataframe tbody tr th {\n",
       "        vertical-align: top;\n",
       "    }\n",
       "\n",
       "    .dataframe thead th {\n",
       "        text-align: right;\n",
       "    }\n",
       "</style>\n",
       "<table border=\"1\" class=\"dataframe\">\n",
       "  <thead>\n",
       "    <tr style=\"text-align: right;\">\n",
       "      <th></th>\n",
       "      <th>artist</th>\n",
       "      <th>album</th>\n",
       "      <th>track_title</th>\n",
       "      <th>track_num</th>\n",
       "      <th>lyric</th>\n",
       "      <th>line</th>\n",
       "      <th>year</th>\n",
       "    </tr>\n",
       "  </thead>\n",
       "  <tbody>\n",
       "    <tr>\n",
       "      <th>0</th>\n",
       "      <td>Beyoncé</td>\n",
       "      <td>Dangerously in Love</td>\n",
       "      <td>Crazy in Love</td>\n",
       "      <td>1</td>\n",
       "      <td>Yes, so crazy right now</td>\n",
       "      <td>1</td>\n",
       "      <td>2003</td>\n",
       "    </tr>\n",
       "    <tr>\n",
       "      <th>1</th>\n",
       "      <td>Beyoncé</td>\n",
       "      <td>Dangerously in Love</td>\n",
       "      <td>Crazy in Love</td>\n",
       "      <td>1</td>\n",
       "      <td>Most incredibly, it's your girl B</td>\n",
       "      <td>2</td>\n",
       "      <td>2003</td>\n",
       "    </tr>\n",
       "    <tr>\n",
       "      <th>2</th>\n",
       "      <td>Beyoncé</td>\n",
       "      <td>Dangerously in Love</td>\n",
       "      <td>Crazy in Love</td>\n",
       "      <td>1</td>\n",
       "      <td>It's your boy, young</td>\n",
       "      <td>3</td>\n",
       "      <td>2003</td>\n",
       "    </tr>\n",
       "    <tr>\n",
       "      <th>3</th>\n",
       "      <td>Beyoncé</td>\n",
       "      <td>Dangerously in Love</td>\n",
       "      <td>Crazy in Love</td>\n",
       "      <td>1</td>\n",
       "      <td>History in the makin' part 2</td>\n",
       "      <td>4</td>\n",
       "      <td>2003</td>\n",
       "    </tr>\n",
       "    <tr>\n",
       "      <th>4</th>\n",
       "      <td>Beyoncé</td>\n",
       "      <td>Dangerously in Love</td>\n",
       "      <td>Crazy in Love</td>\n",
       "      <td>1</td>\n",
       "      <td>So crazy right now</td>\n",
       "      <td>5</td>\n",
       "      <td>2003</td>\n",
       "    </tr>\n",
       "    <tr>\n",
       "      <th>...</th>\n",
       "      <td>...</td>\n",
       "      <td>...</td>\n",
       "      <td>...</td>\n",
       "      <td>...</td>\n",
       "      <td>...</td>\n",
       "      <td>...</td>\n",
       "      <td>...</td>\n",
       "    </tr>\n",
       "    <tr>\n",
       "      <th>6151</th>\n",
       "      <td>Beyoncé</td>\n",
       "      <td>RENAISSANCE</td>\n",
       "      <td>SUMMER RENAISSANCE</td>\n",
       "      <td>16</td>\n",
       "      <td>This Telfar bag imported, Birkins, them shits ...</td>\n",
       "      <td>63</td>\n",
       "      <td>2022</td>\n",
       "    </tr>\n",
       "    <tr>\n",
       "      <th>6152</th>\n",
       "      <td>Beyoncé</td>\n",
       "      <td>RENAISSANCE</td>\n",
       "      <td>SUMMER RENAISSANCE</td>\n",
       "      <td>16</td>\n",
       "      <td>I'm in my bag</td>\n",
       "      <td>64</td>\n",
       "      <td>2022</td>\n",
       "    </tr>\n",
       "    <tr>\n",
       "      <th>6153</th>\n",
       "      <td>Beyoncé</td>\n",
       "      <td>RENAISSANCE</td>\n",
       "      <td>SUMMER RENAISSANCE</td>\n",
       "      <td>16</td>\n",
       "      <td>Ah-ooh</td>\n",
       "      <td>65</td>\n",
       "      <td>2022</td>\n",
       "    </tr>\n",
       "    <tr>\n",
       "      <th>6154</th>\n",
       "      <td>Beyoncé</td>\n",
       "      <td>RENAISSANCE</td>\n",
       "      <td>SUMMER RENAISSANCE</td>\n",
       "      <td>16</td>\n",
       "      <td>Ah-ooh</td>\n",
       "      <td>66</td>\n",
       "      <td>2022</td>\n",
       "    </tr>\n",
       "    <tr>\n",
       "      <th>6155</th>\n",
       "      <td>Beyoncé</td>\n",
       "      <td>RENAISSANCE</td>\n",
       "      <td>SUMMER RENAISSANCE</td>\n",
       "      <td>16</td>\n",
       "      <td>Ah-ooh</td>\n",
       "      <td>67</td>\n",
       "      <td>2022</td>\n",
       "    </tr>\n",
       "  </tbody>\n",
       "</table>\n",
       "<p>6156 rows × 7 columns</p>\n",
       "</div>"
      ],
      "text/plain": [
       "       artist                album         track_title  track_num  \\\n",
       "0     Beyoncé  Dangerously in Love       Crazy in Love          1   \n",
       "1     Beyoncé  Dangerously in Love       Crazy in Love          1   \n",
       "2     Beyoncé  Dangerously in Love       Crazy in Love          1   \n",
       "3     Beyoncé  Dangerously in Love       Crazy in Love          1   \n",
       "4     Beyoncé  Dangerously in Love       Crazy in Love          1   \n",
       "...       ...                  ...                 ...        ...   \n",
       "6151  Beyoncé          RENAISSANCE  SUMMER RENAISSANCE         16   \n",
       "6152  Beyoncé          RENAISSANCE  SUMMER RENAISSANCE         16   \n",
       "6153  Beyoncé          RENAISSANCE  SUMMER RENAISSANCE         16   \n",
       "6154  Beyoncé          RENAISSANCE  SUMMER RENAISSANCE         16   \n",
       "6155  Beyoncé          RENAISSANCE  SUMMER RENAISSANCE         16   \n",
       "\n",
       "                                                  lyric  line  year  \n",
       "0                               Yes, so crazy right now     1  2003  \n",
       "1                     Most incredibly, it's your girl B     2  2003  \n",
       "2                                  It's your boy, young     3  2003  \n",
       "3                          History in the makin' part 2     4  2003  \n",
       "4                                    So crazy right now     5  2003  \n",
       "...                                                 ...   ...   ...  \n",
       "6151  This Telfar bag imported, Birkins, them shits ...    63  2022  \n",
       "6152                                      I'm in my bag    64  2022  \n",
       "6153                                             Ah-ooh    65  2022  \n",
       "6154                                             Ah-ooh    66  2022  \n",
       "6155                                             Ah-ooh    67  2022  \n",
       "\n",
       "[6156 rows x 7 columns]"
      ]
     },
     "execution_count": 128,
     "metadata": {},
     "output_type": "execute_result"
    }
   ],
   "source": [
    "import pandas as pd\n",
    "import matplotlib.pyplot as plt\n",
    "beyonce_file=pd.read_csv(\"beyonce_lyrics - beyonce_lyrics(1).csv\")\n",
    "beyonce_file\n",
    "\n"
   ]
  },
  {
   "cell_type": "code",
   "execution_count": 17,
   "id": "ad40829c",
   "metadata": {},
   "outputs": [
    {
     "data": {
      "text/html": [
       "<div>\n",
       "<style scoped>\n",
       "    .dataframe tbody tr th:only-of-type {\n",
       "        vertical-align: middle;\n",
       "    }\n",
       "\n",
       "    .dataframe tbody tr th {\n",
       "        vertical-align: top;\n",
       "    }\n",
       "\n",
       "    .dataframe thead th {\n",
       "        text-align: right;\n",
       "    }\n",
       "</style>\n",
       "<table border=\"1\" class=\"dataframe\">\n",
       "  <thead>\n",
       "    <tr style=\"text-align: right;\">\n",
       "      <th></th>\n",
       "      <th>album</th>\n",
       "      <th>track_title</th>\n",
       "      <th>track_num</th>\n",
       "      <th>lyric</th>\n",
       "      <th>line</th>\n",
       "      <th>year</th>\n",
       "    </tr>\n",
       "  </thead>\n",
       "  <tbody>\n",
       "    <tr>\n",
       "      <th>0</th>\n",
       "      <td>Dangerously in Love</td>\n",
       "      <td>Crazy in Love</td>\n",
       "      <td>1</td>\n",
       "      <td>Yes, so crazy right now</td>\n",
       "      <td>1</td>\n",
       "      <td>2003</td>\n",
       "    </tr>\n",
       "    <tr>\n",
       "      <th>1</th>\n",
       "      <td>Dangerously in Love</td>\n",
       "      <td>Crazy in Love</td>\n",
       "      <td>1</td>\n",
       "      <td>Most incredibly, it's your girl B</td>\n",
       "      <td>2</td>\n",
       "      <td>2003</td>\n",
       "    </tr>\n",
       "    <tr>\n",
       "      <th>2</th>\n",
       "      <td>Dangerously in Love</td>\n",
       "      <td>Crazy in Love</td>\n",
       "      <td>1</td>\n",
       "      <td>It's your boy, young</td>\n",
       "      <td>3</td>\n",
       "      <td>2003</td>\n",
       "    </tr>\n",
       "    <tr>\n",
       "      <th>3</th>\n",
       "      <td>Dangerously in Love</td>\n",
       "      <td>Crazy in Love</td>\n",
       "      <td>1</td>\n",
       "      <td>History in the makin' part 2</td>\n",
       "      <td>4</td>\n",
       "      <td>2003</td>\n",
       "    </tr>\n",
       "    <tr>\n",
       "      <th>4</th>\n",
       "      <td>Dangerously in Love</td>\n",
       "      <td>Crazy in Love</td>\n",
       "      <td>1</td>\n",
       "      <td>So crazy right now</td>\n",
       "      <td>5</td>\n",
       "      <td>2003</td>\n",
       "    </tr>\n",
       "    <tr>\n",
       "      <th>...</th>\n",
       "      <td>...</td>\n",
       "      <td>...</td>\n",
       "      <td>...</td>\n",
       "      <td>...</td>\n",
       "      <td>...</td>\n",
       "      <td>...</td>\n",
       "    </tr>\n",
       "    <tr>\n",
       "      <th>6151</th>\n",
       "      <td>RENAISSANCE</td>\n",
       "      <td>SUMMER RENAISSANCE</td>\n",
       "      <td>16</td>\n",
       "      <td>This Telfar bag imported, Birkins, them shits ...</td>\n",
       "      <td>63</td>\n",
       "      <td>2022</td>\n",
       "    </tr>\n",
       "    <tr>\n",
       "      <th>6152</th>\n",
       "      <td>RENAISSANCE</td>\n",
       "      <td>SUMMER RENAISSANCE</td>\n",
       "      <td>16</td>\n",
       "      <td>I'm in my bag</td>\n",
       "      <td>64</td>\n",
       "      <td>2022</td>\n",
       "    </tr>\n",
       "    <tr>\n",
       "      <th>6153</th>\n",
       "      <td>RENAISSANCE</td>\n",
       "      <td>SUMMER RENAISSANCE</td>\n",
       "      <td>16</td>\n",
       "      <td>Ah-ooh</td>\n",
       "      <td>65</td>\n",
       "      <td>2022</td>\n",
       "    </tr>\n",
       "    <tr>\n",
       "      <th>6154</th>\n",
       "      <td>RENAISSANCE</td>\n",
       "      <td>SUMMER RENAISSANCE</td>\n",
       "      <td>16</td>\n",
       "      <td>Ah-ooh</td>\n",
       "      <td>66</td>\n",
       "      <td>2022</td>\n",
       "    </tr>\n",
       "    <tr>\n",
       "      <th>6155</th>\n",
       "      <td>RENAISSANCE</td>\n",
       "      <td>SUMMER RENAISSANCE</td>\n",
       "      <td>16</td>\n",
       "      <td>Ah-ooh</td>\n",
       "      <td>67</td>\n",
       "      <td>2022</td>\n",
       "    </tr>\n",
       "  </tbody>\n",
       "</table>\n",
       "<p>6156 rows × 6 columns</p>\n",
       "</div>"
      ],
      "text/plain": [
       "                    album         track_title  track_num  \\\n",
       "0     Dangerously in Love       Crazy in Love          1   \n",
       "1     Dangerously in Love       Crazy in Love          1   \n",
       "2     Dangerously in Love       Crazy in Love          1   \n",
       "3     Dangerously in Love       Crazy in Love          1   \n",
       "4     Dangerously in Love       Crazy in Love          1   \n",
       "...                   ...                 ...        ...   \n",
       "6151          RENAISSANCE  SUMMER RENAISSANCE         16   \n",
       "6152          RENAISSANCE  SUMMER RENAISSANCE         16   \n",
       "6153          RENAISSANCE  SUMMER RENAISSANCE         16   \n",
       "6154          RENAISSANCE  SUMMER RENAISSANCE         16   \n",
       "6155          RENAISSANCE  SUMMER RENAISSANCE         16   \n",
       "\n",
       "                                                  lyric  line  year  \n",
       "0                               Yes, so crazy right now     1  2003  \n",
       "1                     Most incredibly, it's your girl B     2  2003  \n",
       "2                                  It's your boy, young     3  2003  \n",
       "3                          History in the makin' part 2     4  2003  \n",
       "4                                    So crazy right now     5  2003  \n",
       "...                                                 ...   ...   ...  \n",
       "6151  This Telfar bag imported, Birkins, them shits ...    63  2022  \n",
       "6152                                      I'm in my bag    64  2022  \n",
       "6153                                             Ah-ooh    65  2022  \n",
       "6154                                             Ah-ooh    66  2022  \n",
       "6155                                             Ah-ooh    67  2022  \n",
       "\n",
       "[6156 rows x 6 columns]"
      ]
     },
     "execution_count": 17,
     "metadata": {},
     "output_type": "execute_result"
    }
   ],
   "source": [
    "#drop the column called artist\n",
    "beyonce_file.drop('artist', inplace=True, axis=1)\n",
    "beyonce_file"
   ]
  },
  {
   "cell_type": "markdown",
   "id": "0acc8a64",
   "metadata": {},
   "source": [
    "Further pre-analyzing the dataset, you can see below that the average number of tracks in each album is 7.5, the average number of lines per each track is 37. "
   ]
  },
  {
   "cell_type": "code",
   "execution_count": 33,
   "id": "5be892b8",
   "metadata": {},
   "outputs": [
    {
     "data": {
      "text/html": [
       "<div>\n",
       "<style scoped>\n",
       "    .dataframe tbody tr th:only-of-type {\n",
       "        vertical-align: middle;\n",
       "    }\n",
       "\n",
       "    .dataframe tbody tr th {\n",
       "        vertical-align: top;\n",
       "    }\n",
       "\n",
       "    .dataframe thead th {\n",
       "        text-align: right;\n",
       "    }\n",
       "</style>\n",
       "<table border=\"1\" class=\"dataframe\">\n",
       "  <thead>\n",
       "    <tr style=\"text-align: right;\">\n",
       "      <th></th>\n",
       "      <th>track_num</th>\n",
       "      <th>line</th>\n",
       "    </tr>\n",
       "  </thead>\n",
       "  <tbody>\n",
       "    <tr>\n",
       "      <th>count</th>\n",
       "      <td>6156.000000</td>\n",
       "      <td>6156.000000</td>\n",
       "    </tr>\n",
       "    <tr>\n",
       "      <th>mean</th>\n",
       "      <td>7.462801</td>\n",
       "      <td>36.922840</td>\n",
       "    </tr>\n",
       "    <tr>\n",
       "      <th>std</th>\n",
       "      <td>4.142908</td>\n",
       "      <td>24.479552</td>\n",
       "    </tr>\n",
       "    <tr>\n",
       "      <th>min</th>\n",
       "      <td>1.000000</td>\n",
       "      <td>1.000000</td>\n",
       "    </tr>\n",
       "    <tr>\n",
       "      <th>25%</th>\n",
       "      <td>4.000000</td>\n",
       "      <td>17.000000</td>\n",
       "    </tr>\n",
       "    <tr>\n",
       "      <th>50%</th>\n",
       "      <td>7.000000</td>\n",
       "      <td>34.000000</td>\n",
       "    </tr>\n",
       "    <tr>\n",
       "      <th>75%</th>\n",
       "      <td>11.000000</td>\n",
       "      <td>54.000000</td>\n",
       "    </tr>\n",
       "    <tr>\n",
       "      <th>max</th>\n",
       "      <td>16.000000</td>\n",
       "      <td>122.000000</td>\n",
       "    </tr>\n",
       "  </tbody>\n",
       "</table>\n",
       "</div>"
      ],
      "text/plain": [
       "         track_num         line\n",
       "count  6156.000000  6156.000000\n",
       "mean      7.462801    36.922840\n",
       "std       4.142908    24.479552\n",
       "min       1.000000     1.000000\n",
       "25%       4.000000    17.000000\n",
       "50%       7.000000    34.000000\n",
       "75%      11.000000    54.000000\n",
       "max      16.000000   122.000000"
      ]
     },
     "execution_count": 33,
     "metadata": {},
     "output_type": "execute_result"
    }
   ],
   "source": [
    "beyonce_file.loc[:,[\"track_num\", \"line\"]].describe()"
   ]
  },
  {
   "cell_type": "markdown",
   "id": "19ef764e",
   "metadata": {},
   "source": [
    "Next, I want to present how many tracks each album has. Since each album was released in different year, I can simply distinguish album based on the year column. Below, I created a small dataset that only has the track_num and year columns:"
   ]
  },
  {
   "cell_type": "code",
   "execution_count": 96,
   "id": "cca338f6",
   "metadata": {},
   "outputs": [
    {
     "data": {
      "text/html": [
       "<div>\n",
       "<style scoped>\n",
       "    .dataframe tbody tr th:only-of-type {\n",
       "        vertical-align: middle;\n",
       "    }\n",
       "\n",
       "    .dataframe tbody tr th {\n",
       "        vertical-align: top;\n",
       "    }\n",
       "\n",
       "    .dataframe thead th {\n",
       "        text-align: right;\n",
       "    }\n",
       "</style>\n",
       "<table border=\"1\" class=\"dataframe\">\n",
       "  <thead>\n",
       "    <tr style=\"text-align: right;\">\n",
       "      <th></th>\n",
       "      <th>track_num</th>\n",
       "      <th>year</th>\n",
       "    </tr>\n",
       "  </thead>\n",
       "  <tbody>\n",
       "    <tr>\n",
       "      <th>0</th>\n",
       "      <td>1</td>\n",
       "      <td>2003</td>\n",
       "    </tr>\n",
       "    <tr>\n",
       "      <th>1</th>\n",
       "      <td>1</td>\n",
       "      <td>2003</td>\n",
       "    </tr>\n",
       "    <tr>\n",
       "      <th>2</th>\n",
       "      <td>1</td>\n",
       "      <td>2003</td>\n",
       "    </tr>\n",
       "    <tr>\n",
       "      <th>3</th>\n",
       "      <td>1</td>\n",
       "      <td>2003</td>\n",
       "    </tr>\n",
       "    <tr>\n",
       "      <th>4</th>\n",
       "      <td>1</td>\n",
       "      <td>2003</td>\n",
       "    </tr>\n",
       "    <tr>\n",
       "      <th>...</th>\n",
       "      <td>...</td>\n",
       "      <td>...</td>\n",
       "    </tr>\n",
       "    <tr>\n",
       "      <th>6151</th>\n",
       "      <td>16</td>\n",
       "      <td>2022</td>\n",
       "    </tr>\n",
       "    <tr>\n",
       "      <th>6152</th>\n",
       "      <td>16</td>\n",
       "      <td>2022</td>\n",
       "    </tr>\n",
       "    <tr>\n",
       "      <th>6153</th>\n",
       "      <td>16</td>\n",
       "      <td>2022</td>\n",
       "    </tr>\n",
       "    <tr>\n",
       "      <th>6154</th>\n",
       "      <td>16</td>\n",
       "      <td>2022</td>\n",
       "    </tr>\n",
       "    <tr>\n",
       "      <th>6155</th>\n",
       "      <td>16</td>\n",
       "      <td>2022</td>\n",
       "    </tr>\n",
       "  </tbody>\n",
       "</table>\n",
       "<p>6156 rows × 2 columns</p>\n",
       "</div>"
      ],
      "text/plain": [
       "      track_num  year\n",
       "0             1  2003\n",
       "1             1  2003\n",
       "2             1  2003\n",
       "3             1  2003\n",
       "4             1  2003\n",
       "...         ...   ...\n",
       "6151         16  2022\n",
       "6152         16  2022\n",
       "6153         16  2022\n",
       "6154         16  2022\n",
       "6155         16  2022\n",
       "\n",
       "[6156 rows x 2 columns]"
      ]
     },
     "execution_count": 96,
     "metadata": {},
     "output_type": "execute_result"
    }
   ],
   "source": [
    "beyonce_file.loc[:,['track_num','year']]"
   ]
  },
  {
   "cell_type": "markdown",
   "id": "c3bc4025",
   "metadata": {},
   "source": [
    "However, since there are 6156 rows, it is impossible to clearly see the number of tracks in each album. Thus, I decided to create a variable for each album and with that, it would be very easy to quickly grasp the result. First, let's get the list of all the albums: "
   ]
  },
  {
   "cell_type": "code",
   "execution_count": 120,
   "id": "f4897d54",
   "metadata": {},
   "outputs": [
    {
     "name": "stdout",
     "output_type": "stream",
     "text": [
      "0       Dangerously in Love\n",
      "914                   B'Day\n",
      "1884    I Am...Sasha Fierce\n",
      "2495                      4\n",
      "3451                BEYONCÉ\n",
      "4349               Lemonade\n",
      "4966            RENAISSANCE\n",
      "Name: album, dtype: object\n"
     ]
    }
   ],
   "source": [
    "print(beyonce_file['album'].drop_duplicates())"
   ]
  },
  {
   "cell_type": "markdown",
   "id": "09de4485",
   "metadata": {},
   "source": [
    "Below are the basic info of each album. I will disregard 'track_title', 'lyric' and 'line' now and just focus on 'album', 'track_num' and 'year'."
   ]
  },
  {
   "cell_type": "code",
   "execution_count": 121,
   "id": "93e39977",
   "metadata": {},
   "outputs": [
    {
     "data": {
      "text/plain": [
       "album                                        Dangerously in Love\n",
       "track_title                                                Daddy\n",
       "track_num                                                     15\n",
       "lyric          I remember when you use to take me on a bike e...\n",
       "line                                                           1\n",
       "year                                                        2003\n",
       "Name: 862, dtype: object"
      ]
     },
     "execution_count": 121,
     "metadata": {},
     "output_type": "execute_result"
    }
   ],
   "source": [
    "dangerously_in_love=beyonce_file.loc[beyonce_file['album']=='Dangerously in Love']\n",
    "dangerously_in_love.loc[dangerously_in_love['track_num'].idxmax()]\n",
    "\n"
   ]
  },
  {
   "cell_type": "code",
   "execution_count": 122,
   "id": "8afdcf33",
   "metadata": {},
   "outputs": [
    {
     "data": {
      "text/plain": [
       "album                                        B'Day\n",
       "track_title                                 Listen\n",
       "track_num                                       13\n",
       "lyric          Listen to the song here in my heart\n",
       "line                                             1\n",
       "year                                          2006\n",
       "Name: 1837, dtype: object"
      ]
     },
     "execution_count": 122,
     "metadata": {},
     "output_type": "execute_result"
    }
   ],
   "source": [
    "bday=beyonce_file.loc[beyonce_file['album']==\"B'Day\"]\n",
    "bday.loc[bday['track_num'].idxmax()]\n"
   ]
  },
  {
   "cell_type": "code",
   "execution_count": 123,
   "id": "c36fed2a",
   "metadata": {},
   "outputs": [
    {
     "data": {
      "text/plain": [
       "album                 I Am...Sasha Fierce\n",
       "track_title                   Video Phone\n",
       "track_num                              11\n",
       "lyric          Shawty, what your name is?\n",
       "line                                    1\n",
       "year                                 2008\n",
       "Name: 2423, dtype: object"
      ]
     },
     "execution_count": 123,
     "metadata": {},
     "output_type": "execute_result"
    }
   ],
   "source": [
    "sasha=beyonce_file.loc[beyonce_file['album']=='I Am...Sasha Fierce']\n",
    "sasha.loc[sasha['track_num'].idxmax()]\n"
   ]
  },
  {
   "cell_type": "code",
   "execution_count": 124,
   "id": "ea3f057f",
   "metadata": {},
   "outputs": [
    {
     "data": {
      "text/plain": [
       "album                                                          4\n",
       "track_title                                        Dance For You\n",
       "track_num                                                     16\n",
       "lyric          I just wanna show you how much I appreciate yo...\n",
       "line                                                           1\n",
       "year                                                        2011\n",
       "Name: 3362, dtype: object"
      ]
     },
     "execution_count": 124,
     "metadata": {},
     "output_type": "execute_result"
    }
   ],
   "source": [
    "four=beyonce_file.loc[beyonce_file['album']=='4']\n",
    "four.loc[four['track_num'].idxmax()]\n"
   ]
  },
  {
   "cell_type": "code",
   "execution_count": 125,
   "id": "6b38b90b",
   "metadata": {},
   "outputs": [
    {
     "data": {
      "text/plain": [
       "album                                               BEYONCÉ\n",
       "track_title                                            Blue\n",
       "track_num                                                14\n",
       "lyric          Sometimes, these walls seem to cave in on me\n",
       "line                                                      1\n",
       "year                                                   2013\n",
       "Name: 4306, dtype: object"
      ]
     },
     "execution_count": 125,
     "metadata": {},
     "output_type": "execute_result"
    }
   ],
   "source": [
    "beyonce=beyonce_file.loc[beyonce_file['album']=='BEYONCÉ']\n",
    "beyonce.loc[beyonce['track_num'].idxmax()]"
   ]
  },
  {
   "cell_type": "code",
   "execution_count": 126,
   "id": "d0a7f2d7",
   "metadata": {},
   "outputs": [
    {
     "data": {
      "text/plain": [
       "album                                   Lemonade\n",
       "track_title                            Formation\n",
       "track_num                                     12\n",
       "lyric          What happened at the New Wil'ins?\n",
       "line                                           1\n",
       "year                                        2018\n",
       "Name: 4897, dtype: object"
      ]
     },
     "execution_count": 126,
     "metadata": {},
     "output_type": "execute_result"
    }
   ],
   "source": [
    "lemonade=beyonce_file.loc[beyonce_file['album']=='Lemonade']\n",
    "lemonade.loc[lemonade['track_num'].idxmax()]\n",
    "\n"
   ]
  },
  {
   "cell_type": "code",
   "execution_count": 127,
   "id": "c2483248",
   "metadata": {},
   "outputs": [
    {
     "data": {
      "text/plain": [
       "album                                          RENAISSANCE\n",
       "track_title                             SUMMER RENAISSANCE\n",
       "track_num                                               16\n",
       "lyric          I wanna house you and make you take my name\n",
       "line                                                     1\n",
       "year                                                  2022\n",
       "Name: 6089, dtype: object"
      ]
     },
     "execution_count": 127,
     "metadata": {},
     "output_type": "execute_result"
    }
   ],
   "source": [
    "renaissance=beyonce_file.loc[beyonce_file['year']==2022]\n",
    "renaissance.loc[renaissance['track_num'].idxmax()]"
   ]
  },
  {
   "cell_type": "code",
   "execution_count": 108,
   "id": "0e29171e",
   "metadata": {},
   "outputs": [
    {
     "data": {
      "text/plain": [
       "<pandas.plotting._core.PlotAccessor object at 0x7f2f849713c0>"
      ]
     },
     "execution_count": 108,
     "metadata": {},
     "output_type": "execute_result"
    }
   ],
   "source": [
    "#print all the lyrics of an album\n"
   ]
  },
  {
   "cell_type": "code",
   "execution_count": 129,
   "id": "5abdfde8",
   "metadata": {},
   "outputs": [
    {
     "data": {
      "text/plain": [
       "<pandas.plotting._core.PlotAccessor object at 0x7f2f832357e0>"
      ]
     },
     "execution_count": 129,
     "metadata": {},
     "output_type": "execute_result"
    }
   ],
   "source": [
    "#tokenize "
   ]
  },
  {
   "cell_type": "code",
   "execution_count": null,
   "id": "b33ea655",
   "metadata": {},
   "outputs": [],
   "source": [
    "#eliminate stopwords, punctuations, porter stemmer"
   ]
  },
  {
   "cell_type": "code",
   "execution_count": null,
   "id": "dec218b6",
   "metadata": {},
   "outputs": [],
   "source": [
    "#print 30 most frequent words in each album"
   ]
  },
  {
   "cell_type": "code",
   "execution_count": null,
   "id": "4faef71c",
   "metadata": {},
   "outputs": [],
   "source": [
    "#graph the words with frequency"
   ]
  },
  {
   "cell_type": "code",
   "execution_count": null,
   "id": "0225b0f9",
   "metadata": {},
   "outputs": [],
   "source": [
    "#calculate sentiment score for each album\n",
    "# vadar \n"
   ]
  },
  {
   "cell_type": "code",
   "execution_count": null,
   "id": "17202568",
   "metadata": {},
   "outputs": [],
   "source": [
    "#compile all scores into 1 complete dataframe"
   ]
  },
  {
   "cell_type": "code",
   "execution_count": null,
   "id": "7315df49",
   "metadata": {},
   "outputs": [],
   "source": [
    "#graph it "
   ]
  },
  {
   "cell_type": "code",
   "execution_count": null,
   "id": "aca59c3b",
   "metadata": {},
   "outputs": [],
   "source": [
    "#make a graph of the sales"
   ]
  },
  {
   "cell_type": "code",
   "execution_count": null,
   "id": "487b982b",
   "metadata": {},
   "outputs": [],
   "source": [
    "#compare the shape and comment "
   ]
  },
  {
   "cell_type": "code",
   "execution_count": null,
   "id": "e2de8fd3",
   "metadata": {
    "collapsed": true
   },
   "outputs": [],
   "source": [
    "#conclusion "
   ]
  }
 ],
 "metadata": {
  "kernelspec": {
   "display_name": "Python 3 (ipykernel)",
   "language": "python",
   "name": "python3"
  },
  "language_info": {
   "codemirror_mode": {
    "name": "ipython",
    "version": 3
   },
   "file_extension": ".py",
   "mimetype": "text/x-python",
   "name": "python",
   "nbconvert_exporter": "python",
   "pygments_lexer": "ipython3",
   "version": "3.10.8"
  }
 },
 "nbformat": 4,
 "nbformat_minor": 5
}
